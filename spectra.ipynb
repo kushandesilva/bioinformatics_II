{
 "cells": [
  {
   "cell_type": "code",
   "execution_count": 2,
   "metadata": {},
   "outputs": [
    {
     "data": {
      "text/plain": [
       "[113, 114, 128, 129, 227, 242, 242, 257, 355, 356, 370, 371, 484]"
      ]
     },
     "execution_count": 2,
     "metadata": {},
     "output_type": "execute_result"
    }
   ],
   "source": [
    "from itertools import cycle, islice\n",
    "\n",
    "peptide = [113, 129, 128, 114]\n",
    "spectrum = []\n",
    "for num in range(1, len(peptide)):\n",
    "    for start in range(len(peptide)):\n",
    "        group = islice(cycle(peptide), start, start + num)\n",
    "        spectrum.append(sum(group))\n",
    "spectrum.append(sum(peptide))\n",
    "sorted(spectrum)"
   ]
  },
  {
   "cell_type": "code",
   "execution_count": 5,
   "metadata": {},
   "outputs": [
    {
     "data": {
      "text/plain": [
       "[71, 71, 131, 131, 202, 202, 202, 202, 273, 273, 333, 333, 404]"
      ]
     },
     "execution_count": 5,
     "metadata": {},
     "output_type": "execute_result"
    }
   ],
   "source": [
    "from itertools import cycle, islice\n",
    "\n",
    "peptide = [131, 71, 131, 71]\n",
    "spectrum = []\n",
    "for num in range(1, len(peptide)):\n",
    "    for start in range(len(peptide)):\n",
    "        group = islice(cycle(peptide), start, start + num)\n",
    "        spectrum.append(sum(group))\n",
    "spectrum.append(sum(peptide))\n",
    "sorted(spectrum)"
   ]
  },
  {
   "cell_type": "code",
   "execution_count": 7,
   "metadata": {},
   "outputs": [
    {
     "data": {
      "text/plain": [
       "[0, 97, 97, 129, 129, 226, 226, 258, 355, 355, 452]"
      ]
     },
     "execution_count": 7,
     "metadata": {},
     "output_type": "execute_result"
    }
   ],
   "source": [
    "def AminoAcidMassDict():\n",
    "    massTable = '''\n",
    "G 57\n",
    "A 71\n",
    "S 87\n",
    "P 97\n",
    "V 99\n",
    "T 101\n",
    "C 103\n",
    "I 113\n",
    "L 113\n",
    "N 114\n",
    "D 115\n",
    "K 128\n",
    "Q 128\n",
    "E 129\n",
    "M 131\n",
    "H 137\n",
    "F 147\n",
    "R 156\n",
    "Y 163\n",
    "W 186'''\n",
    "    mass = massTable.split()\n",
    "    return {mass[i]:int(mass[i+1]) for i in range(0, len(mass), 2)}\n",
    "\n",
    "def LinearSpectrum(peptide):\n",
    "    massDict = AminoAcidMassDict()\n",
    "    n = len(peptide)\n",
    "    PrefixMass = [0]\n",
    "    for i in range(n):\n",
    "        PrefixMass.append(PrefixMass[i] + massDict[peptide[i]])\n",
    "    lSpectrum = [0]\n",
    "    for i in range(n):\n",
    "        for j in range(i+1, n+1):\n",
    "            lSpectrum.append(PrefixMass[j]-PrefixMass[i])\n",
    "    return sorted(lSpectrum)\n",
    "LinearSpectrum(\"PEEP\")"
   ]
  },
  {
   "cell_type": "code",
   "execution_count": null,
   "metadata": {},
   "outputs": [],
   "source": []
  }
 ],
 "metadata": {
  "kernelspec": {
   "display_name": "Python 3",
   "language": "python",
   "name": "python3"
  },
  "language_info": {
   "codemirror_mode": {
    "name": "ipython",
    "version": 3
   },
   "file_extension": ".py",
   "mimetype": "text/x-python",
   "name": "python",
   "nbconvert_exporter": "python",
   "pygments_lexer": "ipython3",
   "version": "3.7.6"
  }
 },
 "nbformat": 4,
 "nbformat_minor": 4
}
